{
 "cells": [
  {
   "cell_type": "code",
   "execution_count": 1,
   "metadata": {},
   "outputs": [],
   "source": [
    "import numpy as np\n",
    "import pickle\n",
    "import cv2\n",
    "import os\n",
    "import cv2 as cv\n",
    "from os import listdir\n",
    "from sklearn.preprocessing import LabelBinarizer\n",
    "from keras.models import Sequential\n",
    "from keras.layers.normalization import BatchNormalization\n",
    "from keras.layers.convolutional import Conv2D\n",
    "from keras.layers.convolutional import MaxPooling2D, AveragePooling2D\n",
    "from keras.layers.core import Activation, Flatten, Dropout, Dense\n",
    "from keras import backend as K\n",
    "from keras.preprocessing.image import ImageDataGenerator\n",
    "from keras.optimizers import Adam\n",
    "from keras.preprocessing import image\n",
    "from keras.preprocessing.image import img_to_array\n",
    "from sklearn.preprocessing import MultiLabelBinarizer\n",
    "from sklearn.model_selection import train_test_split\n",
    "import matplotlib.pyplot as plt"
   ]
  },
  {
   "cell_type": "markdown",
   "metadata": {},
   "source": [
    "# CNN MODEL"
   ]
  },
  {
   "cell_type": "code",
   "execution_count": 2,
   "metadata": {},
   "outputs": [],
   "source": [
    "EPOCHS=10\n",
    "INIT_LR=1e-05\n",
    "BS=32\n",
    "default_image_size=tuple((100,100))\n",
    "image_size=0\n",
    "\n",
    "\n",
    "directory_root=r\"F:\\DL projects\\Data sets\\Tomato leaf Data set\\New Plant Diseases Dataset(Augmented)\""
   ]
  },
  {
   "cell_type": "code",
   "execution_count": 3,
   "metadata": {},
   "outputs": [],
   "source": [
    "#converting images to arrays\n",
    "def convert_image_to_array(image_dir):\n",
    "    try:\n",
    "        image = cv2.imread(image_dir)\n",
    "        if image is not None :\n",
    "            image = cv2.resize(image, default_image_size)   \n",
    "            return img_to_array(image)\n",
    "        else :\n",
    "            return np.array([])\n",
    "    except Exception as e:\n",
    "        print(f\"Error : {e}\")\n",
    "        return None"
   ]
  },
  {
   "cell_type": "code",
   "execution_count": 4,
   "metadata": {},
   "outputs": [
    {
     "name": "stdout",
     "output_type": "stream",
     "text": [
      "[INFO] Loading images ...\n",
      "[INFO] Processing train ...\n",
      "[INFO] Processing valid ...\n",
      "[INFO] Processing Tomato bacterial spot ...\n",
      "[INFO] Processing Tomato early blight ...\n",
      "[INFO] Processing Tomato healthy ...\n",
      "[INFO] Processing Tomato late blight ...\n",
      "[INFO] Processing Tomato leaf mold ...\n",
      "[INFO] Processing Tomato septoria leaf spot ...\n",
      "[INFO] Processing Tomato spider mites Two spotted spider mite ...\n",
      "[INFO] Processing Tomato target spot ...\n",
      "[INFO] Processing Tomato tomato mosaic virus ...\n",
      "[INFO] Processing Tomato tomato yellow leaf curl virus ...\n",
      "[INFO] Processing Tomato bacterial spot ...\n",
      "[INFO] Processing Tomato early blight ...\n",
      "[INFO] Processing Tomato healthy ...\n",
      "[INFO] Processing Tomato late blight ...\n",
      "[INFO] Processing Tomato leaf mold ...\n",
      "[INFO] Processing Tomato septoria leaf spot ...\n",
      "[INFO] Processing Tomato spider mites Two spotted spider mite ...\n",
      "[INFO] Processing Tomato target spot ...\n",
      "[INFO] Processing Tomato tomato mosaic virus ...\n",
      "[INFO] Processing Tomato tomato yellow leaf curl virus ...\n",
      "[INFO] Image loading completed\n"
     ]
    }
   ],
   "source": [
    " #labelling images based on their category\n",
    "image_list, label_list = [], []\n",
    "try:\n",
    "    print(\"[INFO] Loading images ...\")\n",
    "    root_dir = listdir(directory_root)\n",
    "    for directory in root_dir :\n",
    "        # remove .DS_Store from list\n",
    "        if directory == \".DS_Store\" :\n",
    "            root_dir.remove(directory)\n",
    "\n",
    "    for plant_folder in root_dir :\n",
    "        plant_disease_folder_list = listdir(f\"{directory_root}/{plant_folder}\")\n",
    "        \n",
    "        for disease_folder in plant_disease_folder_list :\n",
    "            # remove .DS_Store from list\n",
    "            if disease_folder == \".DS_Store\" :\n",
    "                plant_disease_folder_list.remove(disease_folder)\n",
    "\n",
    "        for plant_disease_folder in plant_disease_folder_list:\n",
    "            print(f\"[INFO] Processing {plant_disease_folder} ...\")\n",
    "            plant_disease_image_list = listdir(f\"{directory_root}/{plant_folder}/{plant_disease_folder}/\")\n",
    "                \n",
    "            for single_plant_disease_image in plant_disease_image_list :\n",
    "                if single_plant_disease_image == \".DS_Store\" :\n",
    "                    plant_disease_image_list.remove(single_plant_disease_image)\n",
    "\n",
    "            for image in plant_disease_image_list[:200]:\n",
    "                image_directory = f\"{directory_root}/{plant_folder}/{plant_disease_folder}/{image}\"\n",
    "                if image_directory.endswith(\".jpg\") == True or image_directory.endswith(\".JPG\") == True:\n",
    "                    image_list.append(convert_image_to_array(image_directory))\n",
    "                    label_list.append(plant_disease_folder)\n",
    "    print(\"[INFO] Image loading completed\")  \n",
    "except Exception as e:\n",
    "    print(f\"Error : {e}\")"
   ]
  },
  {
   "cell_type": "code",
   "execution_count": 5,
   "metadata": {},
   "outputs": [],
   "source": [
    "#one hot encoding\n",
    "label_binarizer = LabelBinarizer() \n",
    "image_labels = label_binarizer.fit_transform(label_list)\n",
    "pickle.dump(label_binarizer,open('label_transform.pkl', 'wb'))\n",
    "n_classes = len(label_binarizer.classes_)"
   ]
  },
  {
   "cell_type": "code",
   "execution_count": 6,
   "metadata": {},
   "outputs": [
    {
     "name": "stdout",
     "output_type": "stream",
     "text": [
      "['Tomato bacterial spot' 'Tomato early blight' 'Tomato healthy'\n",
      " 'Tomato late blight' 'Tomato leaf mold' 'Tomato septoria leaf spot'\n",
      " 'Tomato spider mites Two spotted spider mite' 'Tomato target spot'\n",
      " 'Tomato tomato mosaic virus' 'Tomato tomato yellow leaf curl virus']\n"
     ]
    }
   ],
   "source": [
    "print(label_binarizer.classes_)"
   ]
  },
  {
   "cell_type": "code",
   "execution_count": 7,
   "metadata": {},
   "outputs": [],
   "source": [
    "#scaling\n",
    "image_list = np.array(image_list, dtype=np.float16)/255.0 "
   ]
  },
  {
   "cell_type": "code",
   "execution_count": 8,
   "metadata": {},
   "outputs": [
    {
     "name": "stdout",
     "output_type": "stream",
     "text": [
      "[INFO] Spliting data to train, test\n"
     ]
    }
   ],
   "source": [
    "print(\"[INFO] Spliting data to train, test\")\n",
    "x_train, x_test, y_train, y_test = train_test_split(image_list, image_labels, test_size=0.2, random_state = 42)"
   ]
  },
  {
   "cell_type": "code",
   "execution_count": 9,
   "metadata": {},
   "outputs": [],
   "source": [
    "#Data augmentation\n",
    "dataaug = ImageDataGenerator(\n",
    "    rotation_range=25, width_shift_range=0.1,\n",
    "    height_shift_range=0.1, shear_range=0.2, \n",
    "    zoom_range=0.2,horizontal_flip=True, \n",
    "    fill_mode=\"nearest\")"
   ]
  },
  {
   "cell_type": "code",
   "execution_count": 30,
   "metadata": {},
   "outputs": [],
   "source": [
    "#model structure\n",
    "model = Sequential()\n",
    "\n",
    "model.add(Conv2D(32, (3, 3), padding=\"same\",input_shape=(100,100,3)))\n",
    "model.add(Activation(\"relu\"))\n",
    "model.add(BatchNormalization())\n",
    "model.add(MaxPooling2D(pool_size=(3, 3)))\n",
    "model.add(Dropout(0.25))\n",
    "model.add(Conv2D(64, (3, 3), padding=\"same\"))\n",
    "model.add(Activation(\"relu\"))\n",
    "model.add(BatchNormalization())\n",
    "model.add(Conv2D(64, (3, 3), padding=\"same\"))\n",
    "model.add(Activation(\"relu\"))\n",
    "model.add(BatchNormalization())\n",
    "model.add(MaxPooling2D(pool_size=(2, 2)))\n",
    "model.add(Dropout(0.25))\n",
    "model.add(Conv2D(128, (3, 3), padding=\"same\"))\n",
    "model.add(Activation(\"relu\"))\n",
    "model.add(BatchNormalization())\n",
    "model.add(Conv2D(128, (3, 3), padding=\"same\"))\n",
    "model.add(Activation(\"relu\"))\n",
    "model.add(BatchNormalization())\n",
    "model.add(MaxPooling2D(pool_size=(2, 2)))\n",
    "model.add(Dropout(0.25))\n",
    "model.add(Flatten())\n",
    "model.add(Dense(1024))\n",
    "model.add(Activation(\"relu\"))\n",
    "model.add(BatchNormalization())\n",
    "model.add(Dropout(0.5))\n",
    "model.add(Dense(10))\n",
    "model.add(Activation(\"softmax\"))"
   ]
  },
  {
   "cell_type": "code",
   "execution_count": 31,
   "metadata": {},
   "outputs": [
    {
     "name": "stdout",
     "output_type": "stream",
     "text": [
      "Model: \"sequential_4\"\n",
      "_________________________________________________________________\n",
      "Layer (type)                 Output Shape              Param #   \n",
      "=================================================================\n",
      "conv2d_17 (Conv2D)           (None, 100, 100, 32)      896       \n",
      "_________________________________________________________________\n",
      "activation_24 (Activation)   (None, 100, 100, 32)      0         \n",
      "_________________________________________________________________\n",
      "batch_normalization_21 (Batc (None, 100, 100, 32)      128       \n",
      "_________________________________________________________________\n",
      "max_pooling2d_9 (MaxPooling2 (None, 33, 33, 32)        0         \n",
      "_________________________________________________________________\n",
      "dropout_11 (Dropout)         (None, 33, 33, 32)        0         \n",
      "_________________________________________________________________\n",
      "conv2d_18 (Conv2D)           (None, 33, 33, 64)        18496     \n",
      "_________________________________________________________________\n",
      "activation_25 (Activation)   (None, 33, 33, 64)        0         \n",
      "_________________________________________________________________\n",
      "batch_normalization_22 (Batc (None, 33, 33, 64)        256       \n",
      "_________________________________________________________________\n",
      "conv2d_19 (Conv2D)           (None, 33, 33, 64)        36928     \n",
      "_________________________________________________________________\n",
      "activation_26 (Activation)   (None, 33, 33, 64)        0         \n",
      "_________________________________________________________________\n",
      "batch_normalization_23 (Batc (None, 33, 33, 64)        256       \n",
      "_________________________________________________________________\n",
      "max_pooling2d_10 (MaxPooling (None, 16, 16, 64)        0         \n",
      "_________________________________________________________________\n",
      "dropout_12 (Dropout)         (None, 16, 16, 64)        0         \n",
      "_________________________________________________________________\n",
      "conv2d_20 (Conv2D)           (None, 16, 16, 128)       73856     \n",
      "_________________________________________________________________\n",
      "activation_27 (Activation)   (None, 16, 16, 128)       0         \n",
      "_________________________________________________________________\n",
      "batch_normalization_24 (Batc (None, 16, 16, 128)       512       \n",
      "_________________________________________________________________\n",
      "conv2d_21 (Conv2D)           (None, 16, 16, 128)       147584    \n",
      "_________________________________________________________________\n",
      "activation_28 (Activation)   (None, 16, 16, 128)       0         \n",
      "_________________________________________________________________\n",
      "batch_normalization_25 (Batc (None, 16, 16, 128)       512       \n",
      "_________________________________________________________________\n",
      "max_pooling2d_11 (MaxPooling (None, 8, 8, 128)         0         \n",
      "_________________________________________________________________\n",
      "dropout_13 (Dropout)         (None, 8, 8, 128)         0         \n",
      "_________________________________________________________________\n",
      "flatten_4 (Flatten)          (None, 8192)              0         \n",
      "_________________________________________________________________\n",
      "dense_11 (Dense)             (None, 1024)              8389632   \n",
      "_________________________________________________________________\n",
      "activation_29 (Activation)   (None, 1024)              0         \n",
      "_________________________________________________________________\n",
      "batch_normalization_26 (Batc (None, 1024)              4096      \n",
      "_________________________________________________________________\n",
      "dropout_14 (Dropout)         (None, 1024)              0         \n",
      "_________________________________________________________________\n",
      "dense_12 (Dense)             (None, 10)                10250     \n",
      "_________________________________________________________________\n",
      "activation_30 (Activation)   (None, 10)                0         \n",
      "=================================================================\n",
      "Total params: 8,683,402\n",
      "Trainable params: 8,680,522\n",
      "Non-trainable params: 2,880\n",
      "_________________________________________________________________\n"
     ]
    }
   ],
   "source": [
    "model.summary()"
   ]
  },
  {
   "cell_type": "code",
   "execution_count": 12,
   "metadata": {},
   "outputs": [
    {
     "name": "stdout",
     "output_type": "stream",
     "text": [
      "[INFO] training network...\n"
     ]
    }
   ],
   "source": [
    "#model compile\n",
    "opt = Adam(lr=INIT_LR, decay=INIT_LR / EPOCHS)\n",
    "# distribution\n",
    "model.compile(loss=\"binary_crossentropy\", optimizer=opt,metrics=[\"accuracy\"])\n",
    "# train the network\n",
    "print(\"[INFO] training network...\")"
   ]
  },
  {
   "cell_type": "code",
   "execution_count": 40,
   "metadata": {
    "scrolled": false
   },
   "outputs": [
    {
     "name": "stdout",
     "output_type": "stream",
     "text": [
      "WARNING:tensorflow:From <ipython-input-40-5912d0addbea>:2: Model.fit_generator (from tensorflow.python.keras.engine.training) is deprecated and will be removed in a future version.\n",
      "Instructions for updating:\n",
      "Please use Model.fit, which supports generators.\n",
      "Epoch 1/70\n",
      "100/100 [==============================] - 73s 728ms/step - loss: 0.4502 - accuracy: 0.1375 - val_loss: 0.3542 - val_accuracy: 0.0950\n",
      "Epoch 2/70\n",
      "100/100 [==============================] - 78s 779ms/step - loss: 0.4094 - accuracy: 0.1953 - val_loss: 0.3881 - val_accuracy: 0.1025\n",
      "Epoch 3/70\n",
      "100/100 [==============================] - 85s 850ms/step - loss: 0.3777 - accuracy: 0.2569 - val_loss: 0.4161 - val_accuracy: 0.1275\n",
      "Epoch 4/70\n",
      "100/100 [==============================] - 83s 830ms/step - loss: 0.3538 - accuracy: 0.3028 - val_loss: 0.3945 - val_accuracy: 0.1875\n",
      "Epoch 5/70\n",
      "100/100 [==============================] - 77s 772ms/step - loss: 0.3394 - accuracy: 0.3325 - val_loss: 0.3380 - val_accuracy: 0.2688\n",
      "Epoch 6/70\n",
      "100/100 [==============================] - 63s 632ms/step - loss: 0.3182 - accuracy: 0.3775 - val_loss: 0.2748 - val_accuracy: 0.4125\n",
      "Epoch 7/70\n",
      "100/100 [==============================] - 67s 667ms/step - loss: 0.3225 - accuracy: 0.3831 - val_loss: 0.2437 - val_accuracy: 0.4800\n",
      "Epoch 8/70\n",
      "100/100 [==============================] - 66s 662ms/step - loss: 0.3005 - accuracy: 0.4119 - val_loss: 0.2241 - val_accuracy: 0.5163\n",
      "Epoch 9/70\n",
      "100/100 [==============================] - 66s 660ms/step - loss: 0.2942 - accuracy: 0.4253 - val_loss: 0.2204 - val_accuracy: 0.5387\n",
      "Epoch 10/70\n",
      "100/100 [==============================] - 66s 659ms/step - loss: 0.2809 - accuracy: 0.4544 - val_loss: 0.2185 - val_accuracy: 0.5500\n",
      "Epoch 11/70\n",
      "100/100 [==============================] - 64s 636ms/step - loss: 0.2760 - accuracy: 0.4584 - val_loss: 0.2220 - val_accuracy: 0.5587\n",
      "Epoch 12/70\n",
      "100/100 [==============================] - 63s 632ms/step - loss: 0.2673 - accuracy: 0.4675 - val_loss: 0.2196 - val_accuracy: 0.5638\n",
      "Epoch 13/70\n",
      "100/100 [==============================] - 63s 631ms/step - loss: 0.2638 - accuracy: 0.4728 - val_loss: 0.2221 - val_accuracy: 0.5625\n",
      "Epoch 14/70\n",
      "100/100 [==============================] - 63s 630ms/step - loss: 0.2579 - accuracy: 0.4969 - val_loss: 0.2183 - val_accuracy: 0.5675\n",
      "Epoch 15/70\n",
      "100/100 [==============================] - 63s 632ms/step - loss: 0.2505 - accuracy: 0.5156 - val_loss: 0.2170 - val_accuracy: 0.5700\n",
      "Epoch 16/70\n",
      "100/100 [==============================] - 63s 634ms/step - loss: 0.2465 - accuracy: 0.5194 - val_loss: 0.2188 - val_accuracy: 0.5750\n",
      "Epoch 17/70\n",
      "100/100 [==============================] - 63s 632ms/step - loss: 0.2423 - accuracy: 0.5284 - val_loss: 0.2249 - val_accuracy: 0.5675\n",
      "Epoch 18/70\n",
      "100/100 [==============================] - 63s 632ms/step - loss: 0.2314 - accuracy: 0.5484 - val_loss: 0.2159 - val_accuracy: 0.5700\n",
      "Epoch 19/70\n",
      "100/100 [==============================] - 64s 641ms/step - loss: 0.2303 - accuracy: 0.5459 - val_loss: 0.2210 - val_accuracy: 0.5800\n",
      "Epoch 20/70\n",
      "100/100 [==============================] - 64s 636ms/step - loss: 0.2256 - accuracy: 0.5550 - val_loss: 0.2226 - val_accuracy: 0.5775\n",
      "Epoch 21/70\n",
      "100/100 [==============================] - 64s 637ms/step - loss: 0.2229 - accuracy: 0.5656 - val_loss: 0.2233 - val_accuracy: 0.5788\n",
      "Epoch 22/70\n",
      "100/100 [==============================] - 66s 659ms/step - loss: 0.2243 - accuracy: 0.5619 - val_loss: 0.2266 - val_accuracy: 0.5688\n",
      "Epoch 23/70\n",
      "100/100 [==============================] - 63s 635ms/step - loss: 0.2172 - accuracy: 0.5775 - val_loss: 0.2375 - val_accuracy: 0.5738\n",
      "Epoch 24/70\n",
      "100/100 [==============================] - 63s 634ms/step - loss: 0.2139 - accuracy: 0.5856 - val_loss: 0.2217 - val_accuracy: 0.5838\n",
      "Epoch 25/70\n",
      "100/100 [==============================] - 63s 634ms/step - loss: 0.2102 - accuracy: 0.5875 - val_loss: 0.2537 - val_accuracy: 0.5587\n",
      "Epoch 26/70\n",
      "100/100 [==============================] - 63s 633ms/step - loss: 0.2082 - accuracy: 0.5894 - val_loss: 0.2319 - val_accuracy: 0.5763\n",
      "Epoch 27/70\n",
      "100/100 [==============================] - 63s 634ms/step - loss: 0.1999 - accuracy: 0.6091 - val_loss: 0.2347 - val_accuracy: 0.5788\n",
      "Epoch 28/70\n",
      "100/100 [==============================] - 63s 631ms/step - loss: 0.2011 - accuracy: 0.6016 - val_loss: 0.2374 - val_accuracy: 0.5738\n",
      "Epoch 29/70\n",
      "100/100 [==============================] - 64s 638ms/step - loss: 0.2037 - accuracy: 0.6106 - val_loss: 0.2449 - val_accuracy: 0.5650\n",
      "Epoch 30/70\n",
      "100/100 [==============================] - 63s 631ms/step - loss: 0.1993 - accuracy: 0.6263 - val_loss: 0.2467 - val_accuracy: 0.5700\n",
      "Epoch 31/70\n",
      "100/100 [==============================] - 63s 633ms/step - loss: 0.1888 - accuracy: 0.6281 - val_loss: 0.2654 - val_accuracy: 0.5462\n",
      "Epoch 32/70\n",
      "100/100 [==============================] - 63s 634ms/step - loss: 0.1854 - accuracy: 0.6288 - val_loss: 0.2652 - val_accuracy: 0.5537\n",
      "Epoch 33/70\n",
      "100/100 [==============================] - 64s 640ms/step - loss: 0.1821 - accuracy: 0.6538 - val_loss: 0.2527 - val_accuracy: 0.5650\n",
      "Epoch 34/70\n",
      "100/100 [==============================] - 67s 671ms/step - loss: 0.1765 - accuracy: 0.6472 - val_loss: 0.2624 - val_accuracy: 0.5587\n",
      "Epoch 35/70\n",
      "100/100 [==============================] - 66s 658ms/step - loss: 0.1789 - accuracy: 0.6506 - val_loss: 0.2639 - val_accuracy: 0.5663\n",
      "Epoch 36/70\n",
      "100/100 [==============================] - 63s 635ms/step - loss: 0.1763 - accuracy: 0.6463 - val_loss: 0.2619 - val_accuracy: 0.5700\n",
      "Epoch 37/70\n",
      "100/100 [==============================] - 64s 636ms/step - loss: 0.1719 - accuracy: 0.6584 - val_loss: 0.2839 - val_accuracy: 0.5550\n",
      "Epoch 38/70\n",
      "100/100 [==============================] - 64s 635ms/step - loss: 0.1725 - accuracy: 0.6547 - val_loss: 0.2626 - val_accuracy: 0.5688\n",
      "Epoch 39/70\n",
      "100/100 [==============================] - 66s 656ms/step - loss: 0.1710 - accuracy: 0.6687 - val_loss: 0.2908 - val_accuracy: 0.5562\n",
      "Epoch 40/70\n",
      "100/100 [==============================] - 67s 674ms/step - loss: 0.1718 - accuracy: 0.6662 - val_loss: 0.2937 - val_accuracy: 0.5537\n",
      "Epoch 41/70\n",
      "100/100 [==============================] - 66s 657ms/step - loss: 0.1627 - accuracy: 0.6778 - val_loss: 0.2578 - val_accuracy: 0.5838\n",
      "Epoch 42/70\n",
      "100/100 [==============================] - 63s 632ms/step - loss: 0.1682 - accuracy: 0.6756 - val_loss: 0.2730 - val_accuracy: 0.5775\n",
      "Epoch 43/70\n",
      "100/100 [==============================] - 63s 635ms/step - loss: 0.1691 - accuracy: 0.6719 - val_loss: 0.2807 - val_accuracy: 0.5625\n",
      "Epoch 44/70\n",
      "100/100 [==============================] - 63s 635ms/step - loss: 0.1553 - accuracy: 0.6872 - val_loss: 0.2812 - val_accuracy: 0.5738\n",
      "Epoch 45/70\n",
      "100/100 [==============================] - 64s 636ms/step - loss: 0.1559 - accuracy: 0.6959 - val_loss: 0.2840 - val_accuracy: 0.5675\n",
      "Epoch 46/70\n",
      "100/100 [==============================] - 63s 631ms/step - loss: 0.1578 - accuracy: 0.7006 - val_loss: 0.2667 - val_accuracy: 0.5825\n",
      "Epoch 47/70\n",
      "100/100 [==============================] - 63s 635ms/step - loss: 0.1528 - accuracy: 0.6997 - val_loss: 0.2939 - val_accuracy: 0.5650\n",
      "Epoch 48/70\n",
      "100/100 [==============================] - 64s 644ms/step - loss: 0.1489 - accuracy: 0.7109 - val_loss: 0.2942 - val_accuracy: 0.5763\n",
      "Epoch 49/70\n",
      "100/100 [==============================] - 63s 632ms/step - loss: 0.1515 - accuracy: 0.7106 - val_loss: 0.2944 - val_accuracy: 0.5750\n",
      "Epoch 50/70\n",
      "100/100 [==============================] - 63s 632ms/step - loss: 0.1471 - accuracy: 0.6997 - val_loss: 0.3082 - val_accuracy: 0.5650\n",
      "Epoch 51/70\n",
      "100/100 [==============================] - 63s 632ms/step - loss: 0.1439 - accuracy: 0.7178 - val_loss: 0.3046 - val_accuracy: 0.5825\n",
      "Epoch 52/70\n",
      "100/100 [==============================] - 64s 643ms/step - loss: 0.1462 - accuracy: 0.7156 - val_loss: 0.3262 - val_accuracy: 0.5700\n",
      "Epoch 53/70\n",
      "100/100 [==============================] - 67s 671ms/step - loss: 0.1444 - accuracy: 0.7153 - val_loss: 0.2944 - val_accuracy: 0.5838\n",
      "Epoch 54/70\n",
      "100/100 [==============================] - 67s 670ms/step - loss: 0.1415 - accuracy: 0.7241 - val_loss: 0.2992 - val_accuracy: 0.5788\n",
      "Epoch 55/70\n",
      "100/100 [==============================] - 67s 669ms/step - loss: 0.1450 - accuracy: 0.7184 - val_loss: 0.3051 - val_accuracy: 0.5725\n",
      "Epoch 56/70\n",
      "100/100 [==============================] - 67s 667ms/step - loss: 0.1381 - accuracy: 0.7244 - val_loss: 0.2886 - val_accuracy: 0.5838\n",
      "Epoch 57/70\n",
      "100/100 [==============================] - 65s 648ms/step - loss: 0.1406 - accuracy: 0.7259 - val_loss: 0.3345 - val_accuracy: 0.5550\n",
      "Epoch 58/70\n",
      "100/100 [==============================] - 63s 634ms/step - loss: 0.1361 - accuracy: 0.7322 - val_loss: 0.3315 - val_accuracy: 0.5612\n",
      "Epoch 59/70\n",
      "100/100 [==============================] - 63s 630ms/step - loss: 0.1358 - accuracy: 0.7344 - val_loss: 0.3408 - val_accuracy: 0.5562\n",
      "Epoch 60/70\n",
      "100/100 [==============================] - 63s 633ms/step - loss: 0.1333 - accuracy: 0.7325 - val_loss: 0.3280 - val_accuracy: 0.5663\n",
      "Epoch 61/70\n",
      "100/100 [==============================] - 64s 636ms/step - loss: 0.1319 - accuracy: 0.7406 - val_loss: 0.3019 - val_accuracy: 0.5825\n",
      "Epoch 62/70\n",
      "100/100 [==============================] - 64s 641ms/step - loss: 0.1317 - accuracy: 0.7375 - val_loss: 0.3282 - val_accuracy: 0.5700\n",
      "Epoch 63/70\n",
      "100/100 [==============================] - 65s 654ms/step - loss: 0.1274 - accuracy: 0.7441 - val_loss: 0.3290 - val_accuracy: 0.5600\n",
      "Epoch 64/70\n",
      "100/100 [==============================] - 63s 633ms/step - loss: 0.1305 - accuracy: 0.7409 - val_loss: 0.3356 - val_accuracy: 0.5562\n",
      "Epoch 65/70\n",
      "100/100 [==============================] - 64s 637ms/step - loss: 0.1235 - accuracy: 0.7572 - val_loss: 0.3061 - val_accuracy: 0.5863\n",
      "Epoch 66/70\n",
      "100/100 [==============================] - 64s 641ms/step - loss: 0.1263 - accuracy: 0.7513 - val_loss: 0.3264 - val_accuracy: 0.5625\n",
      "Epoch 67/70\n",
      "100/100 [==============================] - 67s 669ms/step - loss: 0.1264 - accuracy: 0.7466 - val_loss: 0.3344 - val_accuracy: 0.5725\n",
      "Epoch 68/70\n",
      "100/100 [==============================] - 64s 637ms/step - loss: 0.1277 - accuracy: 0.7556 - val_loss: 0.3228 - val_accuracy: 0.5800\n",
      "Epoch 69/70\n",
      "100/100 [==============================] - 63s 634ms/step - loss: 0.1287 - accuracy: 0.7487 - val_loss: 0.3108 - val_accuracy: 0.5913\n",
      "Epoch 70/70\n",
      "100/100 [==============================] - 63s 634ms/step - loss: 0.1222 - accuracy: 0.7569 - val_loss: 0.3125 - val_accuracy: 0.5900\n"
     ]
    }
   ],
   "source": [
    "#fit train and test data in model\n",
    "hist1 = model.fit_generator(\n",
    "    dataaug.flow(x_train, y_train, batch_size=BS),\n",
    "    validation_data=(x_test, y_test),\n",
    "    steps_per_epoch=len(x_train) // BS,\n",
    "    epochs=70, verbose=1\n",
    "    )"
   ]
  },
  {
   "cell_type": "code",
   "execution_count": 41,
   "metadata": {},
   "outputs": [
    {
     "data": {
      "image/png": "[encoded data removed]",
      "text/plain": [
       "<Figure size 432x288 with 1 Axes>"
      ]
     },
     "metadata": {
      "needs_background": "light"
     },
     "output_type": "display_data"
    },
    {
     "data": {
      "image/png": "[encoded data removed]",
      "text/plain": [
       "<Figure size 432x288 with 1 Axes>"
      ]
     },
     "metadata": {
      "needs_background": "light"
     },
     "output_type": "display_data"
    },
    {
     "data": {
      "text/plain": [
       "<Figure size 432x288 with 0 Axes>"
      ]
     },
     "metadata": {},
     "output_type": "display_data"
    }
   ],
   "source": [
    "#plots of loss and accuracy\n",
    "plt.plot(hist1.history['loss'], label='train loss')\n",
    "plt.plot(hist1.history['val_loss'], label='val loss')\n",
    "plt.legend()\n",
    "plt.show()\n",
    "plt.savefig('LossVal_loss')\n",
    "\n",
    "# plot the accuracy\n",
    "plt.plot(hist1.history['accuracy'], label='train acc')\n",
    "plt.plot(hist1.history['val_accuracy'], label='val acc')\n",
    "plt.legend()\n",
    "plt.show()\n",
    "plt.savefig('AccVal_acc')"
   ]
  },
  {
   "cell_type": "code",
   "execution_count": 42,
   "metadata": {},
   "outputs": [
    {
     "name": "stdout",
     "output_type": "stream",
     "text": [
      "INFO:tensorflow:Assets written to: MODEL1.h1\\assets\n"
     ]
    }
   ],
   "source": [
    "model.save('MODEL1.h1')"
   ]
  },
  {
   "cell_type": "markdown",
   "metadata": {},
   "source": [
    "# ALEXNET MODEL"
   ]
  },
  {
   "cell_type": "code",
   "execution_count": 13,
   "metadata": {},
   "outputs": [
    {
     "name": "stdout",
     "output_type": "stream",
     "text": [
      "Model: \"sequential_1\"\n",
      "_________________________________________________________________\n",
      "Layer (type)                 Output Shape              Param #   \n",
      "=================================================================\n",
      "conv2d_5 (Conv2D)            (None, 25, 25, 96)        34944     \n",
      "_________________________________________________________________\n",
      "batch_normalization_6 (Batch (None, 25, 25, 96)        384       \n",
      "_________________________________________________________________\n",
      "activation_7 (Activation)    (None, 25, 25, 96)        0         \n",
      "_________________________________________________________________\n",
      "max_pooling2d_3 (MaxPooling2 (None, 13, 13, 96)        0         \n",
      "_________________________________________________________________\n",
      "conv2d_6 (Conv2D)            (None, 13, 13, 256)       614656    \n",
      "_________________________________________________________________\n",
      "batch_normalization_7 (Batch (None, 13, 13, 256)       1024      \n",
      "_________________________________________________________________\n",
      "activation_8 (Activation)    (None, 13, 13, 256)       0         \n",
      "_________________________________________________________________\n",
      "max_pooling2d_4 (MaxPooling2 (None, 7, 7, 256)         0         \n",
      "_________________________________________________________________\n",
      "conv2d_7 (Conv2D)            (None, 7, 7, 384)         885120    \n",
      "_________________________________________________________________\n",
      "batch_normalization_8 (Batch (None, 7, 7, 384)         1536      \n",
      "_________________________________________________________________\n",
      "activation_9 (Activation)    (None, 7, 7, 384)         0         \n",
      "_________________________________________________________________\n",
      "conv2d_8 (Conv2D)            (None, 7, 7, 384)         1327488   \n",
      "_________________________________________________________________\n",
      "batch_normalization_9 (Batch (None, 7, 7, 384)         1536      \n",
      "_________________________________________________________________\n",
      "activation_10 (Activation)   (None, 7, 7, 384)         0         \n",
      "_________________________________________________________________\n",
      "conv2d_9 (Conv2D)            (None, 7, 7, 256)         884992    \n",
      "_________________________________________________________________\n",
      "batch_normalization_10 (Batc (None, 7, 7, 256)         1024      \n",
      "_________________________________________________________________\n",
      "activation_11 (Activation)   (None, 7, 7, 256)         0         \n",
      "_________________________________________________________________\n",
      "max_pooling2d_5 (MaxPooling2 (None, 4, 4, 256)         0         \n",
      "_________________________________________________________________\n",
      "flatten_1 (Flatten)          (None, 4096)              0         \n",
      "_________________________________________________________________\n",
      "dense_2 (Dense)              (None, 4096)              16781312  \n",
      "_________________________________________________________________\n",
      "batch_normalization_11 (Batc (None, 4096)              16384     \n",
      "_________________________________________________________________\n",
      "activation_12 (Activation)   (None, 4096)              0         \n",
      "_________________________________________________________________\n",
      "dropout_4 (Dropout)          (None, 4096)              0         \n",
      "_________________________________________________________________\n",
      "dense_3 (Dense)              (None, 4096)              16781312  \n",
      "_________________________________________________________________\n",
      "batch_normalization_12 (Batc (None, 4096)              16384     \n",
      "_________________________________________________________________\n",
      "activation_13 (Activation)   (None, 4096)              0         \n",
      "_________________________________________________________________\n",
      "dropout_5 (Dropout)          (None, 4096)              0         \n",
      "_________________________________________________________________\n",
      "dense_4 (Dense)              (None, 1000)              4097000   \n",
      "_________________________________________________________________\n",
      "batch_normalization_13 (Batc (None, 1000)              4000      \n",
      "_________________________________________________________________\n",
      "activation_14 (Activation)   (None, 1000)              0         \n",
      "_________________________________________________________________\n",
      "dropout_6 (Dropout)          (None, 1000)              0         \n",
      "_________________________________________________________________\n",
      "dense_5 (Dense)              (None, 10)                10010     \n",
      "_________________________________________________________________\n",
      "batch_normalization_14 (Batc (None, 10)                40        \n",
      "_________________________________________________________________\n",
      "activation_15 (Activation)   (None, 10)                0         \n",
      "=================================================================\n",
      "Total params: 41,459,146\n",
      "Trainable params: 41,437,990\n",
      "Non-trainable params: 21,156\n",
      "_________________________________________________________________\n"
     ]
    }
   ],
   "source": [
    "AlexNet = Sequential()\n",
    "\n",
    "#1st Convolutional Layer\n",
    "AlexNet.add(Conv2D(filters=96, input_shape=(100,100,3), kernel_size=(11,11), strides=(4,4), padding='same'))\n",
    "AlexNet.add(BatchNormalization())\n",
    "AlexNet.add(Activation('relu'))\n",
    "AlexNet.add(MaxPooling2D(pool_size=(2,2), strides=(2,2), padding='same'))\n",
    "\n",
    "#2nd Convolutional Layer\n",
    "AlexNet.add(Conv2D(filters=256, kernel_size=(5, 5), strides=(1,1), padding='same'))\n",
    "AlexNet.add(BatchNormalization())\n",
    "AlexNet.add(Activation('relu'))\n",
    "AlexNet.add(MaxPooling2D(pool_size=(2,2), strides=(2,2), padding='same'))\n",
    "\n",
    "#3rd Convolutional Layer\n",
    "AlexNet.add(Conv2D(filters=384, kernel_size=(3,3), strides=(1,1), padding='same'))\n",
    "AlexNet.add(BatchNormalization())\n",
    "AlexNet.add(Activation('relu'))\n",
    "\n",
    "#4th Convolutional Layer\n",
    "AlexNet.add(Conv2D(filters=384, kernel_size=(3,3), strides=(1,1), padding='same'))\n",
    "AlexNet.add(BatchNormalization())\n",
    "AlexNet.add(Activation('relu'))\n",
    "\n",
    "#5th Convolutional Layer\n",
    "AlexNet.add(Conv2D(filters=256, kernel_size=(3,3), strides=(1,1), padding='same'))\n",
    "AlexNet.add(BatchNormalization())\n",
    "AlexNet.add(Activation('relu'))\n",
    "AlexNet.add(MaxPooling2D(pool_size=(2,2), strides=(2,2), padding='same'))\n",
    "\n",
    "#Passing it to a Fully Connected layer\n",
    "AlexNet.add(Flatten())\n",
    "# 1st Fully Connected Layer\n",
    "AlexNet.add(Dense(4096, input_shape=(32,32,3,)))\n",
    "AlexNet.add(BatchNormalization())\n",
    "AlexNet.add(Activation('relu'))\n",
    "# Add Dropout to prevent overfitting\n",
    "AlexNet.add(Dropout(0.4))\n",
    "\n",
    "#2nd Fully Connected Layer\n",
    "AlexNet.add(Dense(4096))\n",
    "AlexNet.add(BatchNormalization())\n",
    "AlexNet.add(Activation('relu'))\n",
    "#Add Dropout\n",
    "AlexNet.add(Dropout(0.4))\n",
    "\n",
    "#3rd Fully Connected Layer\n",
    "AlexNet.add(Dense(1000))\n",
    "AlexNet.add(BatchNormalization())\n",
    "AlexNet.add(Activation('relu'))\n",
    "#Add Dropout\n",
    "AlexNet.add(Dropout(0.4))\n",
    "\n",
    "#Output Layer\n",
    "AlexNet.add(Dense(10))\n",
    "AlexNet.add(BatchNormalization())\n",
    "AlexNet.add(Activation('softmax'))\n",
    "\n",
    "#Model Summary\n",
    "AlexNet.summary()"
   ]
  },
  {
   "cell_type": "code",
   "execution_count": 14,
   "metadata": {},
   "outputs": [],
   "source": [
    "#data-augmentation\n",
    "datagen = ImageDataGenerator(\n",
    "        featurewise_center=False,\n",
    "        samplewise_center=False,\n",
    "        featurewise_std_normalization=False,\n",
    "        samplewise_std_normalization=False, \n",
    "        zca_whitening=False,\n",
    "        rotation_range=20, \n",
    "        width_shift_range=0.1,\n",
    "        height_shift_range=0.1,\n",
    "        horizontal_flip=True, \n",
    "        vertical_flip=False)"
   ]
  },
  {
   "cell_type": "code",
   "execution_count": 15,
   "metadata": {},
   "outputs": [
    {
     "name": "stdout",
     "output_type": "stream",
     "text": [
      "Found 18345 images belonging to 10 classes.\n",
      "Found 4585 images belonging to 10 classes.\n"
     ]
    }
   ],
   "source": [
    "BS=64\n",
    "train_generator=datagen.flow_from_directory(r\"F:\\DL projects\\Data sets\\Tomato leaf Data set\\New Plant Diseases Dataset(Augmented)\\train\",\n",
    "target_size=(100,100),\n",
    "batch_size=BS,\n",
    "class_mode='categorical',\n",
    "shuffle=True)\n",
    "\n",
    "\n",
    "validation_generator=datagen.flow_from_directory( r\"F:\\DL projects\\Data sets\\Tomato leaf Data set\\New Plant Diseases Dataset(Augmented)\\valid\",\n",
    "target_size=(100,100),\n",
    "batch_size=BS,\n",
    "class_mode='categorical',\n",
    "shuffle=True)"
   ]
  },
  {
   "cell_type": "code",
   "execution_count": 16,
   "metadata": {},
   "outputs": [
    {
     "name": "stdout",
     "output_type": "stream",
     "text": [
      "[INFO] training network...\n"
     ]
    }
   ],
   "source": [
    "opt = Adam(lr=INIT_LR, decay=INIT_LR / EPOCHS)\n",
    "# distribution\n",
    "AlexNet.compile(loss=\"categorical_crossentropy\", optimizer=opt,metrics=[\"accuracy\"])\n",
    "# train the network\n",
    "print(\"[INFO] training network...\")"
   ]
  },
  {
   "cell_type": "code",
   "execution_count": 55,
   "metadata": {},
   "outputs": [
    {
     "name": "stdout",
     "output_type": "stream",
     "text": [
      "Epoch 1/10\n",
      "286/286 [==============================] - 605s 2s/step - loss: 0.5770 - accuracy: 0.9087 - val_loss: 0.4730 - val_accuracy: 0.9025\n",
      "Epoch 2/10\n",
      "286/286 [==============================] - 602s 2s/step - loss: 0.5604 - accuracy: 0.9146 - val_loss: 0.4455 - val_accuracy: 0.9144\n",
      "Epoch 3/10\n",
      "286/286 [==============================] - 627s 2s/step - loss: 0.5442 - accuracy: 0.9199 - val_loss: 0.3842 - val_accuracy: 0.9371\n",
      "Epoch 4/10\n",
      "286/286 [==============================] - 612s 2s/step - loss: 0.5390 - accuracy: 0.9214 - val_loss: 0.3790 - val_accuracy: 0.9366\n",
      "Epoch 5/10\n",
      "286/286 [==============================] - 597s 2s/step - loss: 0.5276 - accuracy: 0.9271 - val_loss: 0.3518 - val_accuracy: 0.9478\n",
      "Epoch 6/10\n",
      "286/286 [==============================] - 597s 2s/step - loss: 0.5141 - accuracy: 0.9294 - val_loss: 0.3961 - val_accuracy: 0.9283\n",
      "Epoch 7/10\n",
      "286/286 [==============================] - 599s 2s/step - loss: 0.5036 - accuracy: 0.9333 - val_loss: 0.3368 - val_accuracy: 0.9474\n",
      "Epoch 8/10\n",
      "286/286 [==============================] - 640s 2s/step - loss: 0.4935 - accuracy: 0.9374 - val_loss: 0.3802 - val_accuracy: 0.9390\n",
      "Epoch 9/10\n",
      "286/286 [==============================] - 637s 2s/step - loss: 0.4874 - accuracy: 0.9384 - val_loss: 0.3809 - val_accuracy: 0.9250\n",
      "Epoch 10/10\n",
      "286/286 [==============================] - 649s 2s/step - loss: 0.4778 - accuracy: 0.9402 - val_loss: 0.3583 - val_accuracy: 0.9351\n"
     ]
    }
   ],
   "source": [
    "ephocs=10\n",
    "steps_per_epoch=train_generator.n//train_generator.batch_size\n",
    "steps_per_epoch\n",
    "validation_steps=validation_generator.n//validation_generator.batch_size\n",
    "validation_steps\n",
    "hist2=AlexNet.fit(x=train_generator,\n",
    "                    steps_per_epoch=steps_per_epoch,\n",
    "                    epochs=ephocs,\n",
    "                    validation_data=validation_generator,\n",
    "                    validation_steps=validation_steps)"
   ]
  },
  {
   "cell_type": "code",
   "execution_count": 56,
   "metadata": {},
   "outputs": [
    {
     "name": "stdout",
     "output_type": "stream",
     "text": [
      "INFO:tensorflow:Assets written to: MODEL2.h1\\assets\n"
     ]
    }
   ],
   "source": [
    "AlexNet.save('MODEL2.h1')"
   ]
  },
  {
   "cell_type": "code",
   "execution_count": 9,
   "metadata": {},
   "outputs": [
    {
     "data": {
      "image/png": "[encoded data removed]",
      "text/plain": [
       "<Figure size 432x288 with 1 Axes>"
      ]
     },
     "metadata": {
      "needs_background": "light"
     },
     "output_type": "display_data"
    },
    {
     "data": {
      "image/png": "[encoded data removed]",
      "text/plain": [
       "<Figure size 432x288 with 1 Axes>"
      ]
     },
     "metadata": {
      "needs_background": "light"
     },
     "output_type": "display_data"
    },
    {
     "data": {
      "text/plain": [
       "<Figure size 432x288 with 0 Axes>"
      ]
     },
     "metadata": {},
     "output_type": "display_data"
    }
   ],
   "source": [
    "plt.plot(hist2.history['loss'], label='train loss')\n",
    "plt.plot(hist2.history['val_loss'], label='val loss')\n",
    "plt.legend()\n",
    "plt.show()\n",
    "plt.savefig('LossVal_loss')\n",
    "\n",
    "# plot the accuracy\n",
    "plt.plot(hist2.history['accuracy'], label='train acc')\n",
    "plt.plot(hist2.history['val_accuracy'], label='val acc')\n",
    "plt.legend()\n",
    "plt.show()\n",
    "plt.savefig('AccVal_acc')"
   ]
  },
  {
   "cell_type": "code",
   "execution_count": 17,
   "metadata": {},
   "outputs": [],
   "source": [
    "train=r\"F:\\DL projects\\Data sets\\Tomato leaf Data set\\New Plant Diseases Dataset(Augmented)\\train\"\n",
    "valid=r\"F:\\DL projects\\Data sets\\Tomato leaf Data set\\New Plant Diseases Dataset(Augmented)\\valid\"\n",
    "CATEGORIES=['Tomato bacterial spot', 'Tomato early blight', 'Tomato healthy', 'Tomato late blight', 'Tomato leaf mold', 'Tomato septoria leaf spot', 'Tomato spider mites two spotted spider mite', 'Tomato target spot', 'Tomato tomato mosaic virus', 'Tomato tomato yellow leaf curl virus']"
   ]
  },
  {
   "cell_type": "code",
   "execution_count": 35,
   "metadata": {},
   "outputs": [
    {
     "name": "stdout",
     "output_type": "stream",
     "text": [
      "WARNING:tensorflow:5 out of the last 4589 calls to <function Model.make_predict_function.<locals>.predict_function at 0x0000024163F974C0> triggered tf.function retracing. Tracing is expensive and the excessive number of tracings could be due to (1) creating @tf.function repeatedly in a loop, (2) passing tensors with different shapes, (3) passing Python objects instead of tensors. For (1), please define your @tf.function outside of the loop. For (2), @tf.function has experimental_relax_shapes=True option that relaxes argument shapes that can avoid unnecessary retracing. For (3), please refer to https://www.tensorflow.org/tutorials/customization/performance#python_or_tensor_args and https://www.tensorflow.org/api_docs/python/tf/function for  more details.\n"
     ]
    },
    {
     "data": {
      "text/plain": [
       "'Tomato healthy'"
      ]
     },
     "execution_count": 35,
     "metadata": {},
     "output_type": "execute_result"
    }
   ],
   "source": [
    "#checking predictions\n",
    "from tensorflow.keras.models import load_model\n",
    "model1=load_model('MODEL3.h1')\n",
    "from tensorflow.keras.applications.resnet50 import preprocess_input\n",
    "from tensorflow.keras.preprocessing import image\n",
    "import cv2\n",
    "test_img=image.load_img(r\"F:\\DL projects\\Data sets\\Tomato leaf Data set\\New Plant Diseases Dataset(Augmented)\\valid\\Tomato healthy\\c (3).JPG\",target_size=(100,100))\n",
    "test_img=image.img_to_array(test_img)\n",
    "test_img=np.expand_dims(test_img,axis=0)\n",
    "result1=model1.predict(test_img)\n",
    "pred1=result1.argmax()\n",
    "\n",
    "\n",
    "CATEGORIES[pred1]"
   ]
  },
  {
   "cell_type": "markdown",
   "metadata": {},
   "source": [
    "# LENET MODEL"
   ]
  },
  {
   "cell_type": "code",
   "execution_count": 19,
   "metadata": {},
   "outputs": [],
   "source": [
    "LeNet=Sequential()\n",
    "\n",
    "LeNet.add(Conv2D(6, kernel_size=(3,3), input_shape=(100,100,3), activation='relu'))\n",
    "LeNet.add(AveragePooling2D())\n",
    "\n",
    "LeNet.add(Conv2D(16, kernel_size=(3,3),activation='relu'))\n",
    "LeNet.add(AveragePooling2D())\n",
    "\n",
    "#LeNet.add(Conv2D(80, kernel_size=(5,5), activation='relu', padding='valid'))\n",
    "#LeNet.add(MaxPooling2D(pool_size=(2,2)))\n",
    "#LeNet.add(Dropout(0.2))\n",
    "\n",
    "LeNet.add(Flatten())\n",
    "LeNet.add(Dense(120,activation='relu'))\n",
    "LeNet.add(Dense(84,activation='relu'))\n",
    "\n",
    "LeNet.add(Dense(10))\n",
    "LeNet.add(Activation(\"softmax\"))"
   ]
  },
  {
   "cell_type": "code",
   "execution_count": 20,
   "metadata": {},
   "outputs": [
    {
     "name": "stdout",
     "output_type": "stream",
     "text": [
      "Model: \"sequential_2\"\n",
      "_________________________________________________________________\n",
      "Layer (type)                 Output Shape              Param #   \n",
      "=================================================================\n",
      "conv2d_10 (Conv2D)           (None, 98, 98, 6)         168       \n",
      "_________________________________________________________________\n",
      "average_pooling2d (AveragePo (None, 49, 49, 6)         0         \n",
      "_________________________________________________________________\n",
      "conv2d_11 (Conv2D)           (None, 47, 47, 16)        880       \n",
      "_________________________________________________________________\n",
      "average_pooling2d_1 (Average (None, 23, 23, 16)        0         \n",
      "_________________________________________________________________\n",
      "flatten_2 (Flatten)          (None, 8464)              0         \n",
      "_________________________________________________________________\n",
      "dense_6 (Dense)              (None, 120)               1015800   \n",
      "_________________________________________________________________\n",
      "dense_7 (Dense)              (None, 84)                10164     \n",
      "_________________________________________________________________\n",
      "dense_8 (Dense)              (None, 10)                850       \n",
      "_________________________________________________________________\n",
      "activation_16 (Activation)   (None, 10)                0         \n",
      "=================================================================\n",
      "Total params: 1,027,862\n",
      "Trainable params: 1,027,862\n",
      "Non-trainable params: 0\n",
      "_________________________________________________________________\n"
     ]
    }
   ],
   "source": [
    "LeNet.summary()"
   ]
  },
  {
   "cell_type": "code",
   "execution_count": 21,
   "metadata": {},
   "outputs": [],
   "source": [
    "#data-augmentation\n",
    "datagen = ImageDataGenerator(\n",
    "        featurewise_center=False,\n",
    "        samplewise_center=False,\n",
    "        featurewise_std_normalization=False,\n",
    "        samplewise_std_normalization=False, \n",
    "        zca_whitening=False,\n",
    "        rotation_range=20, \n",
    "        width_shift_range=0.1,\n",
    "        height_shift_range=0.1,\n",
    "        horizontal_flip=True, \n",
    "        vertical_flip=False)"
   ]
  },
  {
   "cell_type": "code",
   "execution_count": 14,
   "metadata": {},
   "outputs": [
    {
     "name": "stdout",
     "output_type": "stream",
     "text": [
      "Found 18345 images belonging to 10 classes.\n",
      "Found 4585 images belonging to 10 classes.\n"
     ]
    }
   ],
   "source": [
    "BS=64\n",
    "train_generator=datagen.flow_from_directory(r\"F:\\DL projects\\Data sets\\Tomato leaf Data set\\New Plant Diseases Dataset(Augmented)\\train\",\n",
    "target_size=(100,100),\n",
    "batch_size=BS,\n",
    "class_mode='categorical',\n",
    "shuffle=True)\n",
    "\n",
    "\n",
    "validation_generator=datagen.flow_from_directory( r\"F:\\DL projects\\Data sets\\Tomato leaf Data set\\New Plant Diseases Dataset(Augmented)\\valid\",\n",
    "target_size=(100,100),\n",
    "batch_size=BS,\n",
    "class_mode='categorical',\n",
    "shuffle=True)"
   ]
  },
  {
   "cell_type": "code",
   "execution_count": 15,
   "metadata": {},
   "outputs": [],
   "source": [
    "LeNet.compile(loss=\"categorical_crossentropy\",optimizer=\"Adam\", metrics=[\"accuracy\"])"
   ]
  },
  {
   "cell_type": "code",
   "execution_count": 16,
   "metadata": {},
   "outputs": [
    {
     "name": "stdout",
     "output_type": "stream",
     "text": [
      "Epoch 1/30\n",
      "286/286 [==============================] - 252s 880ms/step - loss: 13.2789 - accuracy: 0.2933 - val_loss: 1.5874 - val_accuracy: 0.4531\n",
      "Epoch 2/30\n",
      "286/286 [==============================] - 182s 638ms/step - loss: 1.2856 - accuracy: 0.5609 - val_loss: 1.0771 - val_accuracy: 0.6226\n",
      "Epoch 3/30\n",
      "286/286 [==============================] - 182s 637ms/step - loss: 0.9884 - accuracy: 0.6601 - val_loss: 0.8561 - val_accuracy: 0.7009\n",
      "Epoch 4/30\n",
      "286/286 [==============================] - 183s 641ms/step - loss: 0.8562 - accuracy: 0.7037 - val_loss: 0.9053 - val_accuracy: 0.6906\n",
      "Epoch 5/30\n",
      "286/286 [==============================] - 183s 639ms/step - loss: 0.7251 - accuracy: 0.7519 - val_loss: 0.8077 - val_accuracy: 0.7232\n",
      "Epoch 6/30\n",
      "286/286 [==============================] - 186s 652ms/step - loss: 0.6847 - accuracy: 0.7635 - val_loss: 0.5884 - val_accuracy: 0.7901\n",
      "Epoch 7/30\n",
      "286/286 [==============================] - 185s 645ms/step - loss: 0.5798 - accuracy: 0.7957 - val_loss: 0.5607 - val_accuracy: 0.8024\n",
      "Epoch 8/30\n",
      "286/286 [==============================] - 185s 646ms/step - loss: 0.5595 - accuracy: 0.8059 - val_loss: 0.4819 - val_accuracy: 0.8308\n",
      "Epoch 9/30\n",
      "286/286 [==============================] - 185s 648ms/step - loss: 0.4920 - accuracy: 0.8286 - val_loss: 0.4539 - val_accuracy: 0.8385\n",
      "Epoch 10/30\n",
      "286/286 [==============================] - 185s 647ms/step - loss: 0.4521 - accuracy: 0.8425 - val_loss: 0.4238 - val_accuracy: 0.8510\n",
      "Epoch 11/30\n",
      "286/286 [==============================] - 184s 643ms/step - loss: 0.4422 - accuracy: 0.8468 - val_loss: 0.4853 - val_accuracy: 0.8343\n",
      "Epoch 12/30\n",
      "286/286 [==============================] - 182s 638ms/step - loss: 0.4292 - accuracy: 0.8518 - val_loss: 0.4162 - val_accuracy: 0.8607\n",
      "Epoch 13/30\n",
      "286/286 [==============================] - 181s 633ms/step - loss: 0.4053 - accuracy: 0.8616 - val_loss: 0.4324 - val_accuracy: 0.8528\n",
      "Epoch 14/30\n",
      "286/286 [==============================] - 183s 641ms/step - loss: 0.3799 - accuracy: 0.8666 - val_loss: 0.4838 - val_accuracy: 0.8349\n",
      "Epoch 15/30\n",
      "286/286 [==============================] - 180s 630ms/step - loss: 0.4101 - accuracy: 0.8562 - val_loss: 0.3925 - val_accuracy: 0.8647\n",
      "Epoch 16/30\n",
      "286/286 [==============================] - 180s 630ms/step - loss: 0.3711 - accuracy: 0.8690 - val_loss: 0.3555 - val_accuracy: 0.8759\n",
      "Epoch 17/30\n",
      "286/286 [==============================] - 14885s 52s/step - loss: 0.3687 - accuracy: 0.8699 - val_loss: 0.3769 - val_accuracy: 0.8684\n",
      "Epoch 18/30\n",
      "286/286 [==============================] - 906s 3s/step - loss: 0.3667 - accuracy: 0.8722 - val_loss: 0.3557 - val_accuracy: 0.8801\n",
      "Epoch 19/30\n",
      "286/286 [==============================] - 186s 650ms/step - loss: 0.3374 - accuracy: 0.8811 - val_loss: 0.3183 - val_accuracy: 0.8884\n",
      "Epoch 20/30\n",
      "286/286 [==============================] - 181s 634ms/step - loss: 0.3271 - accuracy: 0.8839 - val_loss: 0.3594 - val_accuracy: 0.8783\n",
      "Epoch 21/30\n",
      "286/286 [==============================] - 181s 631ms/step - loss: 0.3403 - accuracy: 0.8805 - val_loss: 0.3879 - val_accuracy: 0.8706\n",
      "Epoch 22/30\n",
      "286/286 [==============================] - 181s 633ms/step - loss: 0.3355 - accuracy: 0.8820 - val_loss: 0.3673 - val_accuracy: 0.8739\n",
      "Epoch 23/30\n",
      "286/286 [==============================] - 181s 631ms/step - loss: 0.2962 - accuracy: 0.8970 - val_loss: 0.3652 - val_accuracy: 0.8746\n",
      "Epoch 24/30\n",
      "286/286 [==============================] - 181s 632ms/step - loss: 0.2973 - accuracy: 0.8972 - val_loss: 0.4051 - val_accuracy: 0.8570\n",
      "Epoch 25/30\n",
      "286/286 [==============================] - 182s 635ms/step - loss: 0.3098 - accuracy: 0.8923 - val_loss: 0.3095 - val_accuracy: 0.9014\n",
      "Epoch 26/30\n",
      "286/286 [==============================] - 181s 633ms/step - loss: 0.3030 - accuracy: 0.8934 - val_loss: 0.3744 - val_accuracy: 0.8761\n",
      "Epoch 27/30\n",
      "286/286 [==============================] - 350s 1s/step - loss: 0.2954 - accuracy: 0.8943 - val_loss: 0.3134 - val_accuracy: 0.8937\n",
      "Epoch 28/30\n",
      "286/286 [==============================] - 131s 457ms/step - loss: 0.2942 - accuracy: 0.8997 - val_loss: 0.2815 - val_accuracy: 0.9045\n",
      "Epoch 29/30\n",
      "286/286 [==============================] - 137s 480ms/step - loss: 0.2864 - accuracy: 0.8999 - val_loss: 0.4675 - val_accuracy: 0.8400\n",
      "Epoch 30/30\n",
      "286/286 [==============================] - 140s 491ms/step - loss: 0.2661 - accuracy: 0.9085 - val_loss: 0.2897 - val_accuracy: 0.9012\n"
     ]
    }
   ],
   "source": [
    "ephocs=25\n",
    "steps_per_epoch=train_generator.n//train_generator.batch_size\n",
    "steps_per_epoch\n",
    "validation_steps=validation_generator.n//validation_generator.batch_size\n",
    "validation_steps\n",
    "hist3=LeNet.fit(x=train_generator,\n",
    "                    steps_per_epoch=steps_per_epoch,\n",
    "                    epochs=ephocs,\n",
    "                    validation_data=validation_generator,\n",
    "                    validation_steps=validation_steps)"
   ]
  },
  {
   "cell_type": "code",
   "execution_count": 17,
   "metadata": {},
   "outputs": [
    {
     "data": {
      "image/png": "[encoded data removed]",
      "text/plain": [
       "<Figure size 432x288 with 1 Axes>"
      ]
     },
     "metadata": {
      "needs_background": "light"
     },
     "output_type": "display_data"
    },
    {
     "data": {
      "image/png": "[encoded data removed]",
      "text/plain": [
       "<Figure size 432x288 with 1 Axes>"
      ]
     },
     "metadata": {
      "needs_background": "light"
     },
     "output_type": "display_data"
    },
    {
     "data": {
      "text/plain": [
       "<Figure size 432x288 with 0 Axes>"
      ]
     },
     "metadata": {},
     "output_type": "display_data"
    }
   ],
   "source": [
    "plt.plot(hist3.history['loss'], label='train loss')\n",
    "plt.plot(hist3.history['val_loss'], label='val loss')\n",
    "plt.legend()\n",
    "plt.show()\n",
    "plt.savefig('LossVal_loss')\n",
    "\n",
    "# plot the accuracy\n",
    "plt.plot(hist3.history['accuracy'], label='train acc')\n",
    "plt.plot(hist3.history['val_accuracy'], label='val acc')\n",
    "plt.legend()\n",
    "plt.show()\n",
    "plt.savefig('AccVal_acc')"
   ]
  },
  {
   "cell_type": "code",
   "execution_count": 18,
   "metadata": {},
   "outputs": [
    {
     "name": "stdout",
     "output_type": "stream",
     "text": [
      "WARNING:tensorflow:From C:\\Users\\lenovo\\anaconda3\\lib\\site-packages\\tensorflow\\python\\training\\tracking\\tracking.py:111: Model.state_updates (from tensorflow.python.keras.engine.training) is deprecated and will be removed in a future version.\n",
      "Instructions for updating:\n",
      "This property should not be used in TensorFlow 2.0, as updates are applied automatically.\n",
      "WARNING:tensorflow:From C:\\Users\\lenovo\\anaconda3\\lib\\site-packages\\tensorflow\\python\\training\\tracking\\tracking.py:111: Layer.updates (from tensorflow.python.keras.engine.base_layer) is deprecated and will be removed in a future version.\n",
      "Instructions for updating:\n",
      "This property should not be used in TensorFlow 2.0, as updates are applied automatically.\n",
      "INFO:tensorflow:Assets written to: MODEL3.h1\\assets\n"
     ]
    }
   ],
   "source": [
    "LeNet.save('MODEL3.h1')"
   ]
  },
  {
   "cell_type": "code",
   "execution_count": 21,
   "metadata": {},
   "outputs": [],
   "source": [
    "from tensorflow.keras.models import load_model"
   ]
  },
  {
   "cell_type": "code",
   "execution_count": 25,
   "metadata": {},
   "outputs": [],
   "source": [
    "count=0"
   ]
  },
  {
   "cell_type": "code",
   "execution_count": 26,
   "metadata": {},
   "outputs": [],
   "source": [
    "#model ensembling\n",
    "model1=load_model('MODEL1.h1')\n",
    "#model2=load_model('MODEL2.h1')\n",
    "#model3=load_model('MODEL3.h1')\n",
    "for category in CATEGORIES:\n",
    "        label=CATEGORIES.index(category)\n",
    "        path=os.path.join(valid,category)\n",
    "        for img_file in os.listdir(path):\n",
    "            img=cv.imread(os.path.join(path,img_file),1)\n",
    "            img=cv.cvtColor(img,cv.COLOR_BGR2RGB)\n",
    "            img=cv.resize(img,(100,100))  \n",
    "            if img is not None:\n",
    "               test_img=image.img_to_array(img)\n",
    "               test_img=np.expand_dims(test_img,axis=0)\n",
    "               result1=model1.predict(test_img)\n",
    "               a=result1.argmax()\n",
    "               #result2=model2.predict(test_img)\n",
    "               #b=result2.argmax()\n",
    "               #result3=model3.predict(test_img)\n",
    "               #c=result3.argmax()\n",
    "               if(a==label):#max voting\n",
    "                  count=count+1"
   ]
  },
  {
   "cell_type": "code",
   "execution_count": 27,
   "metadata": {},
   "outputs": [
    {
     "data": {
      "text/plain": [
       "713"
      ]
     },
     "execution_count": 27,
     "metadata": {},
     "output_type": "execute_result"
    }
   ],
   "source": [
    "count"
   ]
  },
  {
   "cell_type": "code",
   "execution_count": 62,
   "metadata": {},
   "outputs": [],
   "source": [
    "count=0"
   ]
  },
  {
   "cell_type": "code",
   "execution_count": 49,
   "metadata": {},
   "outputs": [],
   "source": [
    "from tensorflow.keras.preprocessing import image"
   ]
  },
  {
   "cell_type": "code",
   "execution_count": 50,
   "metadata": {},
   "outputs": [],
   "source": [
    "#model ensembling\n",
    "model1=load_model('MODEL1.h1')\n",
    "#model2=load_model('MODEL2.h1')\n",
    "model3=load_model('MODEL3.h1')\n",
    "for category in CATEGORIES:\n",
    "        label=CATEGORIES.index(category)\n",
    "        path=os.path.join(valid,category)\n",
    "        for img_file in os.listdir(path):\n",
    "            img=cv.imread(os.path.join(path,img_file),1)\n",
    "            img=cv.cvtColor(img,cv.COLOR_BGR2RGB)\n",
    "            img=cv.resize(img,(100,100))  \n",
    "            if img is not None:\n",
    "               test_img=image.img_to_array(img)\n",
    "               test_img=np.expand_dims(test_img,axis=0)\n",
    "               result1=model1.predict(test_img)\n",
    "               a=result1.argmax()\n",
    "               #result2=model2.predict(test_img)\n",
    "               #b=result2.argmax()\n",
    "               #result3=model3.predict(test_img)\n",
    "               #c=result3.argmax()\n",
    "               if(a==label):#max voting\n",
    "                  count=count+1"
   ]
  },
  {
   "cell_type": "code",
   "execution_count": 51,
   "metadata": {},
   "outputs": [
    {
     "data": {
      "text/plain": [
       "713"
      ]
     },
     "execution_count": 51,
     "metadata": {},
     "output_type": "execute_result"
    }
   ],
   "source": [
    "#correct predictions out 4585 test data set\n",
    "count"
   ]
  },
  {
   "cell_type": "code",
   "execution_count": 60,
   "metadata": {},
   "outputs": [],
   "source": [
    "#model ensembling\n",
    "#model1=load_model('MODEL1.h1')\n",
    "model2=load_model('MODEL2.h1')\n",
    "#model3=load_model('MODEL3.h1')\n",
    "for category in CATEGORIES:\n",
    "        label=CATEGORIES.index(category)\n",
    "        path=os.path.join(valid,category)\n",
    "        for img_file in os.listdir(path):\n",
    "            img=cv.imread(os.path.join(path,img_file),1)\n",
    "            img=cv.cvtColor(img,cv.COLOR_BGR2RGB)\n",
    "            img=cv.resize(img,(100,100))  \n",
    "            if img is not None:\n",
    "               test_img=image.img_to_array(img)\n",
    "               test_img=np.expand_dims(test_img,axis=0)\n",
    "               result1=model2.predict(test_img)\n",
    "               a=result1.argmax()\n",
    "               #result2=model2.predict(test_img)\n",
    "               #b=result2.argmax()\n",
    "               #result3=model3.predict(test_img)\n",
    "               #c=result3.argmax()\n",
    "               if(a==label):#max voting\n",
    "                  count=count+1"
   ]
  },
  {
   "cell_type": "code",
   "execution_count": 61,
   "metadata": {},
   "outputs": [
    {
     "data": {
      "text/plain": [
       "4248"
      ]
     },
     "execution_count": 61,
     "metadata": {},
     "output_type": "execute_result"
    }
   ],
   "source": [
    "count"
   ]
  },
  {
   "cell_type": "code",
   "execution_count": 80,
   "metadata": {},
   "outputs": [],
   "source": [
    "count=0"
   ]
  },
  {
   "cell_type": "code",
   "execution_count": 81,
   "metadata": {},
   "outputs": [],
   "source": [
    "#model ensembling\n",
    "model1=load_model('MODEL1.h1')\n",
    "model2=load_model('MODEL2.h1')\n",
    "model3=load_model('MODEL3.h1')\n",
    "for category in CATEGORIES:\n",
    "        label=CATEGORIES.index(category)\n",
    "        path=os.path.join(valid,category)\n",
    "        for img_file in os.listdir(path):\n",
    "            img=cv.imread(os.path.join(path,img_file),1)\n",
    "            img=cv.cvtColor(img,cv.COLOR_BGR2RGB)\n",
    "            img=cv.resize(img,(100,100))  \n",
    "            if img is not None:\n",
    "               test_img=image.img_to_array(img)\n",
    "               test_img=np.expand_dims(test_img,axis=0)\n",
    "               result1=model1.predict(test_img)\n",
    "               a=result1.argmax()\n",
    "               result2=model2.predict(test_img)\n",
    "               b=result2.argmax()\n",
    "               result3=model3.predict(test_img)\n",
    "               c=result3.argmax()\n",
    "               if(a==b or b==c or c==a or a==b==c):#max voting\n",
    "                  count=count+1"
   ]
  },
  {
   "cell_type": "code",
   "execution_count": null,
   "metadata": {},
   "outputs": [],
   "source": [
    "#model ensembling\n",
    "y=[]\n",
    "model1=load_model('MODEL1.h1')\n",
    "model2=load_model('MODEL2.h1')\n",
    "model3=load_model('MODEL3.h1')\n",
    "for category in CATEGORIES:\n",
    "        label=CATEGORIES.index(category)\n",
    "        path=os.path.join(valid,category)\n",
    "        for img_file in os.listdir(path):\n",
    "            img=cv.imread(os.path.join(path,img_file),1)\n",
    "            img=cv.cvtColor(img,cv.COLOR_BGR2RGB)\n",
    "            img=cv.resize(img,(100,100))  \n",
    "            if img is not None:\n",
    "               test_img=image.img_to_array(img)\n",
    "               test_img=np.expand_dims(test_img,axis=0)\n",
    "               result1=model1.predict(test_img)\n",
    "               a=result1.argmax()\n",
    "               result2=model2.predict(test_img)\n",
    "               b=result2.argmax()\n",
    "               result3=model3.predict(test_img)\n",
    "               c=result3.argmax()\n",
    "               if(a==b or b==c or c==a or a==b==c):#max voting\n",
    "                  y.append()"
   ]
  },
  {
   "cell_type": "code",
   "execution_count": 82,
   "metadata": {},
   "outputs": [
    {
     "data": {
      "text/plain": [
       "4182"
      ]
     },
     "execution_count": 82,
     "metadata": {},
     "output_type": "execute_result"
    }
   ],
   "source": [
    "count"
   ]
  },
  {
   "cell_type": "code",
   "execution_count": 84,
   "metadata": {},
   "outputs": [],
   "source": [
    "ensemble_acc= count*100/4585"
   ]
  },
  {
   "cell_type": "code",
   "execution_count": 85,
   "metadata": {},
   "outputs": [
    {
     "data": {
      "text/plain": [
       "91.79934569247547"
      ]
     },
     "execution_count": 85,
     "metadata": {},
     "output_type": "execute_result"
    }
   ],
   "source": [
    "ensemble_acc"
   ]
  }
 ],
 "metadata": {
  "kernelspec": {
   "display_name": "Python 3",
   "language": "python",
   "name": "python3"
  },
  "language_info": {
   "codemirror_mode": {
    "name": "ipython",
    "version": 3
   },
   "file_extension": ".py",
   "mimetype": "text/x-python",
   "name": "python",
   "nbconvert_exporter": "python",
   "pygments_lexer": "ipython3",
   "version": "3.8.5"
  }
 },
 "nbformat": 4,
 "nbformat_minor": 4
}
